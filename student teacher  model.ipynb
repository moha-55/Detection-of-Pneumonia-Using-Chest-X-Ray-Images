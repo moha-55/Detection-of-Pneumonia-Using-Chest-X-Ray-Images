{
 "cells": [
  {
   "cell_type": "code",
   "execution_count": 7,
   "id": "5b569ca2-e281-4eaf-8fe3-41f534976990",
   "metadata": {},
   "outputs": [],
   "source": [
    "import torch\n",
    "import torch.nn as nn\n",
    "import torch.optim as optim\n",
    "import torch.nn.functional as F\n",
    "from torchvision import datasets, transforms\n",
    "from torch.utils.data import DataLoader, random_split, WeightedRandomSampler\n",
    "import matplotlib.pyplot as plt\n",
    "import numpy as np\n",
    "from tqdm import tqdm\n"
   ]
  },
  {
   "cell_type": "code",
   "execution_count": 8,
   "id": "60043083-a60b-475e-8a76-a4eb274ff79c",
   "metadata": {},
   "outputs": [
    {
     "name": "stdout",
     "output_type": "stream",
     "text": [
      "Training images: 5216, Testing images: 624, Validation images: 16\n"
     ]
    }
   ],
   "source": [
    "\n",
    "#  Step 1: data editing and augmentation\n",
    "transform = transforms.Compose([\n",
    "    transforms.Resize((224, 224)),  \n",
    "    transforms.Grayscale(num_output_channels=1),  \n",
    "    transforms.RandomHorizontalFlip(),  # Augmentation\n",
    "    transforms.RandomRotation(10),      # Augmentation\n",
    "    transforms.ToTensor(),  \n",
    "    transforms.Normalize(mean=[0.5], std=[0.5])  \n",
    "])\n",
    "\n",
    "# Step 2️: Load dataset from folders\n",
    "data_dir = r\"C:\\Users\\Rose\\Documents\\mcmaster\\semester 2\\cps\\part1-deep learning\\project cps\\archive (6)\\chest_xray\" \n",
    "\n",
    "train_dataset = datasets.ImageFolder(root=f\"{data_dir}/train\", transform=transform)\n",
    "test_dataset = datasets.ImageFolder(root=f\"{data_dir}/test\", transform=transform)\n",
    "val_dataset = datasets.ImageFolder(root=f\"{data_dir}/val\", transform=transform)\n",
    "\n",
    "# Step 3️: Create DataLoaders for batch processing\n",
    "train_loader = DataLoader(train_dataset, batch_size=32, shuffle=True)\n",
    "test_loader = DataLoader(test_dataset, batch_size=32, shuffle=False)\n",
    "val_loader = DataLoader(val_dataset, batch_size=32, shuffle=False)\n",
    "\n",
    "# Print dataset sizes\n",
    "print(f\"Training images: {len(train_dataset)}, Testing images: {len(test_dataset)}, Validation images: {len(val_dataset)}\")\n"
   ]
  },
  {
   "cell_type": "code",
   "execution_count": 9,
   "id": "51299194-af91-487c-bbfa-3ceb9e28f56a",
   "metadata": {},
   "outputs": [
    {
     "name": "stdout",
     "output_type": "stream",
     "text": [
      "TeacherCNN(\n",
      "  (conv1): Conv2d(1, 64, kernel_size=(3, 3), stride=(1, 1), padding=(1, 1))\n",
      "  (conv2): Conv2d(64, 128, kernel_size=(3, 3), stride=(1, 1), padding=(1, 1))\n",
      "  (conv3): Conv2d(128, 256, kernel_size=(3, 3), stride=(1, 1), padding=(1, 1))\n",
      "  (pool): MaxPool2d(kernel_size=2, stride=2, padding=0, dilation=1, ceil_mode=False)\n",
      "  (fc1): Linear(in_features=200704, out_features=512, bias=True)\n",
      "  (dropout1): Dropout(p=0.3, inplace=False)\n",
      "  (fc2): Linear(in_features=512, out_features=256, bias=True)\n",
      "  (dropout2): Dropout(p=0.2, inplace=False)\n",
      "  (fc3): Linear(in_features=256, out_features=1, bias=True)\n",
      ")\n"
     ]
    }
   ],
   "source": [
    "class TeacherCNN(nn.Module):\n",
    "    def __init__(self):  \n",
    "        super(TeacherCNN, self).__init__()  # Inherit from nn.Module\n",
    "        \n",
    "        # Convolutional Layers (More layers than Student Model)\n",
    "        self.conv1 = nn.Conv2d(1, 64, kernel_size=3, stride=1, padding=1)\n",
    "        self.conv2 = nn.Conv2d(64, 128, kernel_size=3, stride=1, padding=1)\n",
    "        self.conv3 = nn.Conv2d(128, 256, kernel_size=3, stride=1, padding=1)\n",
    "        self.pool = nn.MaxPool2d(kernel_size=2, stride=2)\n",
    "\n",
    "        # Fully Connected Layers with Two Dropouts\n",
    "        self.fc1 = nn.Linear(256 * 28 * 28, 512)  # Increased neurons\n",
    "        self.dropout1 = nn.Dropout(0.3)  # First Dropout (before 2nd FC layer)\n",
    "        self.fc2 = nn.Linear(512, 256)  # New FC layer\n",
    "        self.dropout2 = nn.Dropout(0.2)  # Second Dropout (before final FC layer)\n",
    "        self.fc3 = nn.Linear(256, 1)  # Final output layer (binary classification)\n",
    "\n",
    "    def forward(self, x):  \n",
    "        x = self.pool(F.relu(self.conv1(x)))\n",
    "        x = self.pool(F.relu(self.conv2(x)))\n",
    "        x = self.pool(F.relu(self.conv3(x)))\n",
    "        x = x.view(x.size(0), -1)  # Flatten the feature maps\n",
    "        x = F.relu(self.fc1(x))  # First FC layer\n",
    "        x = self.dropout1(x)  # Apply first dropout\n",
    "        x = F.relu(self.fc2(x))  # Second FC layer\n",
    "        x = self.dropout2(x)  # Apply second dropout\n",
    "        x = self.fc3(x)  # Output layer (logits)\n",
    "        return x\n",
    "        \n",
    "# Step 2️: Initialize the Teacher Model\n",
    "teacher_model = TeacherCNN()\n",
    "\n",
    "# Step 3️: The Model Architecture\n",
    "print(teacher_model)"
   ]
  },
  {
   "cell_type": "code",
   "execution_count": null,
   "id": "f7bc6b5b-65b2-436a-bfa2-553f229e5b68",
   "metadata": {},
   "outputs": [],
   "source": [
    "# Step 1️: Move Model to GPU if Available\n",
    "device = torch.device(\"cuda\" if torch.cuda.is_available() else \"cpu\")\n",
    "teacher_model.to(device)\n",
    "\n",
    "# Step 2️: Define Optimizer and Loss Function\n",
    "criterion = nn.BCEWithLogitsLoss()  # Binary classification loss\n",
    "optimizer = optim.Adam(teacher_model.parameters(), lr=0.001)  # Adam optimizer\n",
    "\n",
    "# Step 3️: Load Data into DataLoaders\n",
    "batch_size = 32\n",
    "\n",
    "train_loader = DataLoader(train_dataset, batch_size=batch_size, shuffle=True)\n",
    "test_loader = DataLoader(test_dataset, batch_size=batch_size, shuffle=False)\n",
    "\n",
    "# Step 4️: Train the Model\n",
    "num_epochs = 5  \n",
    "for epoch in range(num_epochs):\n",
    "    teacher_model.train()  # Set model to training mode\n",
    "    running_loss = 0.0\n",
    "\n",
    "    for images, labels in train_loader:\n",
    "        images, labels = images.to(device), labels.to(device).float().unsqueeze(1)  # Move to GPU if available for Mohmmad\n",
    "\n",
    "        optimizer.zero_grad()  # Reset gradients\n",
    "        outputs = teacher_model(images)  # Forward pass\n",
    "        loss = criterion(outputs, labels)  # Compute loss\n",
    "        loss.backward()  # Backpropagation\n",
    "        optimizer.step()  # Update model weights\n",
    "\n",
    "        running_loss += loss.item()\n",
    "\n",
    "    print(f\"Epoch {epoch+1}/{num_epochs}, Loss: {running_loss / len(train_loader):.4f}\")\n",
    "\n",
    "# Step 5️: Save the Trained Teacher Model\n",
    "torch.save(teacher_model.state_dict(), \"teacher_model.pth\")\n",
    "print(\"Teacher Model Trained and Saved!\")"
   ]
  },
  {
   "cell_type": "code",
   "execution_count": 12,
   "id": "3245860a-99b6-4df8-a477-f5afc27f4b11",
   "metadata": {},
   "outputs": [
    {
     "name": "stdout",
     "output_type": "stream",
     "text": [
      "✅ Teacher Model Loaded Successfully!\n"
     ]
    }
   ],
   "source": [
    "import torch\n",
    "\n",
    "device = torch.device(\"cuda\" if torch.cuda.is_available() else \"cpu\")\n",
    "\n",
    "#  Initialize the Teacher Model\n",
    "teacher_model = TeacherCNN().to(device)  # Ensure the model is on the correct device\n",
    "\n",
    "#  Load the trained weights\n",
    "teacher_model.load_state_dict(torch.load(\"teacher_model.pth\", map_location=device, weights_only=True))\n",
    "\n",
    "#  Set the Teacher Model to Evaluation Mode (Important for Distillation)\n",
    "teacher_model.eval()\n",
    "\n",
    "print(\" Teacher Model Loaded Successfully!\")\n"
   ]
  },
  {
   "cell_type": "code",
   "execution_count": 14,
   "id": "7658cc49-f815-498b-b7d7-ff318a078e79",
   "metadata": {},
   "outputs": [],
   "source": [
    "import torch\n",
    "import torch.nn as nn\n",
    "import torch.nn.functional as F\n",
    "\n",
    "class StudentCNN(nn.Module):\n",
    "    def __init__(self, input_height=224, input_width=224):\n",
    "        super(StudentCNN, self).__init__()\n",
    "        \n",
    "        #  Convolutional Layers\n",
    "        self.conv1 = nn.Conv2d(1, 32, kernel_size=3, stride=1, padding=1)\n",
    "        self.conv2 = nn.Conv2d(32, 64, kernel_size=3, stride=1, padding=1)\n",
    "        self.pool = nn.MaxPool2d(kernel_size=2, stride=2)\n",
    "\n",
    "        # Calculate the flattened size after convolution + pooling\n",
    "        self.flattened_size = (input_height // 4) * (input_width // 4) * 64  \n",
    "\n",
    "        #  Fully Connected Layers\n",
    "        self.fc1 = nn.Linear(self.flattened_size, 512)  \n",
    "        self.dropout1 = nn.Dropout(0.3)  \n",
    "        self.fc2 = nn.Linear(512, 256)  \n",
    "        self.dropout2 = nn.Dropout(0.2)  \n",
    "        self.fc3 = nn.Linear(256, 1)  \n",
    "\n",
    "    def forward(self, x):\n",
    "        x = self.pool(F.relu(self.conv1(x)))  \n",
    "        x = self.pool(F.relu(self.conv2(x)))  \n",
    "        x = x.view(x.size(0), -1)  \n",
    "\n",
    "        x = F.relu(self.fc1(x))  \n",
    "        x = self.dropout1(x)  \n",
    "        x = F.relu(self.fc2(x))  \n",
    "        x = self.dropout2(x)  \n",
    "\n",
    "        x = self.fc3(x)  \n",
    "        return x  \n"
   ]
  },
  {
   "cell_type": "code",
   "execution_count": 18,
   "id": "0a171d41-290c-4e4b-a35e-b7ed988cf776",
   "metadata": {},
   "outputs": [],
   "source": [
    "def knowledge_distillation_loss(student_logits, teacher_logits, true_labels, T=5, alpha=0.3):\n",
    "    # Sigmoid probabilities for binary tasks\n",
    "    student_probs = torch.sigmoid(student_logits / T)\n",
    "    teacher_probs = torch.sigmoid(teacher_logits / T)\n",
    "    \n",
    "    # Distillation loss \n",
    "    distillation_loss = F.mse_loss(student_probs, teacher_probs)\n",
    "    # distillation_loss = F.binary_cross_entropy(student_probs, teacher_probs)\n",
    "    \n",
    "    # Task loss (BCEWithLogits)\n",
    "    task_loss = F.binary_cross_entropy_with_logits(student_logits, true_labels)\n",
    "    \n",
    "    return alpha * task_loss + (1 - alpha) * distillation_loss"
   ]
  },
  {
   "cell_type": "code",
   "execution_count": 15,
   "id": "fedde661-0abc-4093-812a-2dc42f7ed361",
   "metadata": {},
   "outputs": [
    {
     "name": "stdout",
     "output_type": "stream",
     "text": [
      " Using device: cpu\n"
     ]
    },
    {
     "name": "stderr",
     "output_type": "stream",
     "text": [
      "C:\\Users\\Rose\\AppData\\Local\\Temp\\ipykernel_7132\\511457337.py:9: FutureWarning: You are using `torch.load` with `weights_only=False` (the current default value), which uses the default pickle module implicitly. It is possible to construct malicious pickle data which will execute arbitrary code during unpickling (See https://github.com/pytorch/pytorch/blob/main/SECURITY.md#untrusted-models for more details). In a future release, the default value for `weights_only` will be flipped to `True`. This limits the functions that could be executed during unpickling. Arbitrary objects will no longer be allowed to be loaded via this mode unless they are explicitly allowlisted by the user via `torch.serialization.add_safe_globals`. We recommend you start setting `weights_only=True` for any use case where you don't have full control of the loaded file. Please open an issue on GitHub for any issues related to this experimental feature.\n",
      "  teacher_model.load_state_dict(torch.load(\"teacher_model.pth\", map_location=device))  # ✅ FIXED: Map to CPU if needed\n",
      "C:\\Users\\Rose\\AppData\\Local\\Temp\\ipykernel_7132\\511457337.py:17: FutureWarning: You are using `torch.load` with `weights_only=False` (the current default value), which uses the default pickle module implicitly. It is possible to construct malicious pickle data which will execute arbitrary code during unpickling (See https://github.com/pytorch/pytorch/blob/main/SECURITY.md#untrusted-models for more details). In a future release, the default value for `weights_only` will be flipped to `True`. This limits the functions that could be executed during unpickling. Arbitrary objects will no longer be allowed to be loaded via this mode unless they are explicitly allowlisted by the user via `torch.serialization.add_safe_globals`. We recommend you start setting `weights_only=True` for any use case where you don't have full control of the loaded file. Please open an issue on GitHub for any issues related to this experimental feature.\n",
      "  student_model.load_state_dict(torch.load(\"student_model.pth\", map_location=device))\n"
     ]
    },
    {
     "name": "stdout",
     "output_type": "stream",
     "text": [
      " No pre-trained student model found. Training from scratch.\n"
     ]
    },
    {
     "name": "stderr",
     "output_type": "stream",
     "text": [
      "Epoch 1/10: 100%|██████████| 163/163 [22:29<00:00,  8.28s/it]\n"
     ]
    },
    {
     "name": "stdout",
     "output_type": "stream",
     "text": [
      "Epoch 1, Training Loss: 0.2656, Validation Loss: 0.2936\n"
     ]
    },
    {
     "name": "stderr",
     "output_type": "stream",
     "text": [
      "Epoch 2/10: 100%|██████████| 163/163 [22:29<00:00,  8.28s/it]\n"
     ]
    },
    {
     "name": "stdout",
     "output_type": "stream",
     "text": [
      "Epoch 2, Training Loss: 0.2460, Validation Loss: 0.2615\n"
     ]
    },
    {
     "name": "stderr",
     "output_type": "stream",
     "text": [
      "Epoch 3/10: 100%|██████████| 163/163 [23:47<00:00,  8.76s/it]\n"
     ]
    },
    {
     "name": "stdout",
     "output_type": "stream",
     "text": [
      "Epoch 3, Training Loss: 0.1949, Validation Loss: 0.2653\n"
     ]
    },
    {
     "name": "stderr",
     "output_type": "stream",
     "text": [
      "Epoch 4/10: 100%|██████████| 163/163 [24:47<00:00,  9.13s/it]\n"
     ]
    },
    {
     "name": "stdout",
     "output_type": "stream",
     "text": [
      "Epoch 4, Training Loss: 0.1175, Validation Loss: 0.2830\n"
     ]
    },
    {
     "name": "stderr",
     "output_type": "stream",
     "text": [
      "Epoch 5/10: 100%|██████████| 163/163 [24:43<00:00,  9.10s/it]\n"
     ]
    },
    {
     "name": "stdout",
     "output_type": "stream",
     "text": [
      "Epoch 5, Training Loss: 0.0882, Validation Loss: 0.3892\n"
     ]
    },
    {
     "name": "stderr",
     "output_type": "stream",
     "text": [
      "Epoch 6/10: 100%|██████████| 163/163 [24:36<00:00,  9.06s/it]\n"
     ]
    },
    {
     "name": "stdout",
     "output_type": "stream",
     "text": [
      "Epoch 6, Training Loss: 0.0739, Validation Loss: 0.1836\n"
     ]
    },
    {
     "name": "stderr",
     "output_type": "stream",
     "text": [
      "Epoch 7/10: 100%|██████████| 163/163 [5:37:17<00:00, 124.16s/it]    \n"
     ]
    },
    {
     "name": "stdout",
     "output_type": "stream",
     "text": [
      "Epoch 7, Training Loss: 0.0704, Validation Loss: 0.2188\n"
     ]
    },
    {
     "name": "stderr",
     "output_type": "stream",
     "text": [
      "Epoch 8/10: 100%|██████████| 163/163 [22:29<00:00,  8.28s/it]\n"
     ]
    },
    {
     "name": "stdout",
     "output_type": "stream",
     "text": [
      "Epoch 8, Training Loss: 0.0661, Validation Loss: 0.2295\n"
     ]
    },
    {
     "name": "stderr",
     "output_type": "stream",
     "text": [
      "Epoch 9/10: 100%|██████████| 163/163 [22:39<00:00,  8.34s/it]\n"
     ]
    },
    {
     "name": "stdout",
     "output_type": "stream",
     "text": [
      "Epoch 9, Training Loss: 0.0655, Validation Loss: 0.3278\n"
     ]
    },
    {
     "name": "stderr",
     "output_type": "stream",
     "text": [
      "Epoch 10/10: 100%|██████████| 163/163 [22:57<00:00,  8.45s/it]\n"
     ]
    },
    {
     "name": "stdout",
     "output_type": "stream",
     "text": [
      "Epoch 10, Training Loss: 0.0630, Validation Loss: 0.1703\n",
      "Student Model Trained and Saved!\n"
     ]
    }
   ],
   "source": [
    "import torch.optim as optim\n",
    "from tqdm import tqdm\n",
    "\n",
    "device = torch.device(\"cuda\" if torch.cuda.is_available() else \"cpu\")\n",
    "print(f\" Using device: {device}\")\n",
    "\n",
    "#  Load the trained Teacher Model properly\n",
    "teacher_model = TeacherCNN().to(device)\n",
    "teacher_model.load_state_dict(torch.load(\"teacher_model.pth\", map_location=device))  #  FIXED: Map to CPU if needed\n",
    "teacher_model.eval()  #  Keep Teacher in evaluation mode\n",
    "\n",
    "#  Initialize the Student Model\n",
    "student_model = StudentCNN(input_height=224, input_width=224).to(device)\n",
    "\n",
    "# Load the trained Student Model \n",
    "try:\n",
    "    student_model.load_state_dict(torch.load(\"student_model.pth\", map_location=device))  \n",
    "    print(\"Student Model Loaded Successfully!\")\n",
    "except FileNotFoundError:\n",
    "    print(\" No pre-trained student model found. Training from scratch.\")\n",
    "\n",
    "#  Optimizer\n",
    "optimizer = optim.SGD(student_model.parameters(), lr=0.001, momentum=0.9)\n",
    "\n",
    "num_epochs = 10\n",
    "\n",
    "for epoch in range(num_epochs):\n",
    "    student_model.train()\n",
    "    running_loss = 0.0\n",
    "\n",
    "    #  Training Loop\n",
    "    for images, labels in tqdm(train_loader, desc=f\"Epoch {epoch+1}/{num_epochs}\"):\n",
    "        images, labels = images.to(device), labels.float().unsqueeze(1).to(device)\n",
    "\n",
    "        with torch.no_grad():\n",
    "            teacher_logits = teacher_model(images)  #  Get stable teacher predictions\n",
    "\n",
    "        student_logits = student_model(images)\n",
    "        loss = knowledge_distillation_loss(student_logits, teacher_logits, labels, T=5, alpha=0.3)\n",
    "\n",
    "        optimizer.zero_grad()\n",
    "        loss.backward()\n",
    "        optimizer.step()\n",
    "\n",
    "        running_loss += loss.item()\n",
    "\n",
    "    # Compute Training Loss\n",
    "    avg_train_loss = running_loss / len(train_loader)\n",
    "\n",
    "    # Compute Validation Loss\n",
    "    student_model.eval()  #  Switch Student Model to Evaluation Mode\n",
    "    val_loss = 0.0\n",
    "\n",
    "    with torch.no_grad():\n",
    "        for images, labels in val_loader:\n",
    "            images, labels = images.to(device), labels.float().unsqueeze(1).to(device)\n",
    "            student_logits = student_model(images)\n",
    "            loss = knowledge_distillation_loss(student_logits, teacher_model(images), labels, T=5, alpha=0.3)\n",
    "            val_loss += loss.item()\n",
    "\n",
    "    avg_val_loss = val_loss / len(val_loader)  #  Compute average validation loss\n",
    "\n",
    "    #  Print Training and Validation Loss\n",
    "    print(f\"Epoch {epoch+1}, Training Loss: {avg_train_loss:.4f}, Validation Loss: {avg_val_loss:.4f}\")\n",
    "\n",
    "#  Save the trained Student Model\n",
    "torch.save(student_model.state_dict(), \"student_model.pth\")\n",
    "print(\"Student Model Trained and Saved!\")\n"
   ]
  },
  {
   "cell_type": "code",
   "execution_count": 44,
   "id": "67187cc2-3a11-4c29-b7de-6e2dd12c21f5",
   "metadata": {},
   "outputs": [
    {
     "name": "stderr",
     "output_type": "stream",
     "text": [
      "C:\\Users\\Rose\\AppData\\Local\\Temp\\ipykernel_22680\\4100189950.py:9: FutureWarning: You are using `torch.load` with `weights_only=False` (the current default value), which uses the default pickle module implicitly. It is possible to construct malicious pickle data which will execute arbitrary code during unpickling (See https://github.com/pytorch/pytorch/blob/main/SECURITY.md#untrusted-models for more details). In a future release, the default value for `weights_only` will be flipped to `True`. This limits the functions that could be executed during unpickling. Arbitrary objects will no longer be allowed to be loaded via this mode unless they are explicitly allowlisted by the user via `torch.serialization.add_safe_globals`. We recommend you start setting `weights_only=True` for any use case where you don't have full control of the loaded file. Please open an issue on GitHub for any issues related to this experimental feature.\n",
      "  student_model.load_state_dict(torch.load(r\"C:\\Users\\Rose\\Documents\\mcmaster\\semester 2\\cps\\part1-deep learning\\project cps\\student_model (1).pth\", map_location=device))\n"
     ]
    },
    {
     "name": "stdout",
     "output_type": "stream",
     "text": [
      "✅ Student Model Loaded Successfully on cpu!\n"
     ]
    }
   ],
   "source": [
    "import torch\n",
    "\n",
    "device = torch.device(\"cuda\" if torch.cuda.is_available() else \"cpu\")\n",
    "\n",
    "# Initialize the Student Model\n",
    "student_model = StudentCNN(input_height=224, input_width=224).to(device)\n",
    "\n",
    "# Load the trained model\n",
    "student_model.load_state_dict(torch.load(r\"C:\\Users\\Rose\\Documents\\mcmaster\\semester 2\\cps\\part1-deep learning\\project cps\\student_model (1).pth\", map_location=device))\n",
    "\n",
    "# Set the model to evaluation mode (important for testing)\n",
    "student_model.eval()\n",
    "\n",
    "print(f\" Student Model Loaded Successfully on {device}!\")\n"
   ]
  },
  {
   "cell_type": "code",
   "execution_count": 46,
   "id": "cf9b1d99-68c8-4e80-a316-7dbaa29a09e5",
   "metadata": {},
   "outputs": [
    {
     "name": "stdout",
     "output_type": "stream",
     "text": [
      " Student Model Evaluation - Loss: 0.6128, Accuracy: 81.09%\n"
     ]
    }
   ],
   "source": [
    "import torch.nn.functional as F\n",
    "\n",
    "student_model.eval()  \n",
    "\n",
    "correct = 0\n",
    "total = 0\n",
    "running_loss = 0.0\n",
    "\n",
    "with torch.no_grad():\n",
    "    for images, labels in test_loader:\n",
    "        images, labels = images.to(device), labels.float().unsqueeze(1).to(device)  # Move to correct device\n",
    "        outputs = student_model(images)\n",
    "\n",
    "        # Use `binary_cross_entropy_with_logits()`\n",
    "        loss = F.binary_cross_entropy_with_logits(outputs, labels)  \n",
    "        running_loss += loss.item()\n",
    "\n",
    "        # Convert raw logits to probabilities before thresholding\n",
    "        predicted = (torch.sigmoid(outputs) > 0.5).float()  \n",
    "\n",
    "        total += labels.size(0)\n",
    "        correct += (predicted == labels).sum().item()\n",
    "\n",
    "accuracy = 100 * correct / total\n",
    "print(f\" Student Model Evaluation - Loss: {running_loss / len(test_loader):.4f}, Accuracy: {accuracy:.2f}%\")\n"
   ]
  },
  {
   "cell_type": "code",
   "execution_count": 26,
   "id": "94b16b6a-ee74-44a7-91b7-aeb09d6f167a",
   "metadata": {},
   "outputs": [
    {
     "name": "stdout",
     "output_type": "stream",
     "text": [
      "C:\\Users\\Rose\\Downloads\n"
     ]
    }
   ],
   "source": [
    "\n",
    "print(os.getcwd())  "
   ]
  },
  {
   "cell_type": "code",
   "execution_count": 48,
   "id": "fc044383-3114-4631-b6bc-9243e5e4ab12",
   "metadata": {},
   "outputs": [
    {
     "name": "stdout",
     "output_type": "stream",
     "text": [
      "✅ Collected true labels and predictions!\n"
     ]
    }
   ],
   "source": [
    "import torch\n",
    "import torch.nn.functional as F\n",
    "\n",
    "# Switch Student Model to Evaluation Mode\n",
    "student_model.eval()\n",
    "\n",
    "y_true, y_pred_logits = [], []\n",
    "\n",
    "with torch.no_grad():\n",
    "    for images, labels in test_loader:\n",
    "        images, labels = images.to(device), labels.float().unsqueeze(1).to(device)\n",
    "\n",
    "        outputs = student_model(images)  #  Get raw logits\n",
    "        y_true.extend(labels.cpu().numpy())  #  Store true labels\n",
    "        y_pred_logits.extend(outputs.cpu().numpy())  #  Store raw logits\n",
    "\n",
    "print(\"✅ Collected true labels and predictions!\")\n"
   ]
  },
  {
   "cell_type": "code",
   "execution_count": 50,
   "id": "c44cdd15-bf4a-4864-b081-39129e0fd479",
   "metadata": {},
   "outputs": [
    {
     "name": "stdout",
     "output_type": "stream",
     "text": [
      "              precision    recall  f1-score   support\n",
      "\n",
      "      Normal       0.83      0.59      0.69       234\n",
      "   Pneumonia       0.79      0.93      0.85       390\n",
      "\n",
      "    accuracy                           0.80       624\n",
      "   macro avg       0.81      0.76      0.77       624\n",
      "weighted avg       0.81      0.80      0.79       624\n",
      "\n"
     ]
    }
   ],
   "source": [
    "from sklearn.metrics import classification_report\n",
    "\n",
    "# Generate predictions\n",
    "with torch.no_grad():\n",
    "    y_true, y_pred = [], []\n",
    "    for images, labels in test_loader:\n",
    "        images, labels = images.to(device), labels.to(device)\n",
    "        outputs = student_model(images)\n",
    "        predicted = (torch.sigmoid(outputs) > 0.5).float()\n",
    "\n",
    "        y_true.extend(labels.cpu().numpy())\n",
    "        y_pred.extend(predicted.cpu().numpy())\n",
    "\n",
    "# Print Precision, Recall, and F1-Score\n",
    "print(classification_report(y_true, y_pred, target_names=[\"Normal\", \"Pneumonia\"]))\n"
   ]
  },
  {
   "cell_type": "code",
   "execution_count": 52,
   "id": "e66a282d-02aa-4b92-8b55-6ca2367629c3",
   "metadata": {},
   "outputs": [
    {
     "data": {
      "image/png": "[encoded data removed]",
      "text/plain": [
       "<Figure size 600x500 with 2 Axes>"
      ]
     },
     "metadata": {},
     "output_type": "display_data"
    }
   ],
   "source": [
    "from sklearn.metrics import confusion_matrix\n",
    "import seaborn as sns\n",
    "import matplotlib.pyplot as plt\n",
    "\n",
    "# Compute Confusion Matrix\n",
    "cm = confusion_matrix(y_true, y_pred)\n",
    "\n",
    "# Plot the Confusion Matrix\n",
    "plt.figure(figsize=(6,5))\n",
    "sns.heatmap(cm, annot=True, fmt=\"d\", cmap=\"Blues\", xticklabels=[\"Normal\", \"Pneumonia\"], yticklabels=[\"Normal\", \"Pneumonia\"])\n",
    "plt.xlabel(\"Predicted\")\n",
    "plt.ylabel(\"Actual\")\n",
    "plt.title(\"Confusion Matrix\")\n",
    "plt.show()\n"
   ]
  },
  {
   "cell_type": "code",
   "execution_count": 79,
   "id": "b47fd647-0a7d-4088-98d8-92d4f083c630",
   "metadata": {},
   "outputs": [
    {
     "data": {
      "image/png": "[encoded data removed]",
      "text/plain": [
       "<Figure size 640x480 with 1 Axes>"
      ]
     },
     "metadata": {},
     "output_type": "display_data"
    },
    {
     "name": "stdout",
     "output_type": "stream",
     "text": [
      "AUC Score: 0.9036\n"
     ]
    }
   ],
   "source": [
    "from sklearn.metrics import roc_curve, auc\n",
    "import numpy as np\n",
    "import matplotlib.pyplot as plt\n",
    "\n",
    "#  Convert logits to probabilities\n",
    "y_probs = torch.sigmoid(torch.tensor(y_pred_logits)).numpy()  # ✅ Apply Sigmoid to logits\n",
    "\n",
    "# Compute ROC Curve\n",
    "fpr, tpr, _ = roc_curve(y_true, y_probs)\n",
    "roc_auc = auc(fpr, tpr)\n",
    "\n",
    "# Plot ROC Curve\n",
    "plt.figure()\n",
    "plt.plot(fpr, tpr, color='blue', lw=2, label=f\"AUC = {roc_auc:.2f}\")\n",
    "plt.plot([0, 1], [0, 1], color='gray', linestyle='--')\n",
    "plt.xlabel(\"False Positive Rate\")\n",
    "plt.ylabel(\"True Positive Rate\")\n",
    "plt.title(\"ROC Curve\")\n",
    "plt.legend(loc=\"lower right\")\n",
    "plt.savefig('ROC Curve.png')\n",
    "\n",
    "plt.show()\n",
    "\n",
    "print(f\"AUC Score: {roc_auc:.4f}\")\n"
   ]
  },
  {
   "cell_type": "code",
   "execution_count": 56,
   "id": "d901440e-95e4-4f37-8068-fa34f2b59c20",
   "metadata": {},
   "outputs": [
    {
     "name": "stdout",
     "output_type": "stream",
     "text": [
      "✅ Student Model Inference Time: 0.063485 seconds\n"
     ]
    }
   ],
   "source": [
    "import time\n",
    "\n",
    "# Measure inference time on a single image\n",
    "sample_image = torch.randn(1, 1, 224, 224).to(device)  # Dummy X-ray image\n",
    "student_model.eval()\n",
    "\n",
    "start_time = time.time()\n",
    "_ = student_model(sample_image)\n",
    "inference_time = time.time() - start_time\n",
    "\n",
    "print(f\" Student Model Inference Time: {inference_time:.6f} seconds\")\n"
   ]
  },
  {
   "cell_type": "code",
   "execution_count": 58,
   "id": "4103130b-0234-461c-9866-9e6199fb17e7",
   "metadata": {},
   "outputs": [
    {
     "name": "stdout",
     "output_type": "stream",
     "text": [
      "Test Accuracy: 81.09%\n",
      "Precision: 0.7917\n",
      "Recall: 0.9256\n",
      "F1-score: 0.8534\n",
      "AUC: 0.9036\n"
     ]
    }
   ],
   "source": [
    "from sklearn.metrics import precision_recall_fscore_support, roc_auc_score\n",
    "\n",
    "#  Compute Precision, Recall, F1-score (single value)\n",
    "precision, recall, f1, _ = precision_recall_fscore_support(y_true, y_pred, average=\"binary\")\n",
    "\n",
    "#  Compute AUC (single value)\n",
    "auc = roc_auc_score(y_true, y_probs)  # Use predicted probabilities\n",
    "\n",
    "#  Print results in a clean format\n",
    "print(f\"Test Accuracy: {accuracy:.2f}%\")\n",
    "print(f\"Precision: {precision:.4f}\")\n",
    "print(f\"Recall: {recall:.4f}\")\n",
    "print(f\"F1-score: {f1:.4f}\")\n",
    "print(f\"AUC: {auc:.4f}\")\n"
   ]
  },
  {
   "cell_type": "code",
   "execution_count": 81,
   "id": "a6e0262b-4860-43bf-8fb8-5a6e232c5dca",
   "metadata": {},
   "outputs": [
    {
     "data": {
      "image/png": "[encoded data removed]",
      "text/plain": [
       "<Figure size 1200x500 with 2 Axes>"
      ]
     },
     "metadata": {},
     "output_type": "display_data"
    }
   ],
   "source": [
    "import matplotlib.pyplot as plt\n",
    "import torch.nn.functional as F\n",
    "\n",
    "# Lists to store actual training and validation loss/accuracy\n",
    "train_loss_history = []\n",
    "val_loss_history = []\n",
    "train_acc_history = []\n",
    "val_acc_history = []\n",
    "\n",
    "num_epochs = 10  # Adjust based on your training\n",
    "\n",
    "# Loop through epochs (use actual stored logs if available)\n",
    "for epoch in range(num_epochs):\n",
    "    train_loss = 0.0\n",
    "    val_loss = 0.0\n",
    "    correct_train = 0\n",
    "    total_train = 0\n",
    "    correct_val = 0\n",
    "    total_val = 0\n",
    "\n",
    "    # Training Phase\n",
    "    student_model.train()\n",
    "    for images, labels in train_loader:\n",
    "        images, labels = images.to(device), labels.float().unsqueeze(1).to(device)\n",
    "        outputs = student_model(images)\n",
    "        loss = F.binary_cross_entropy_with_logits(outputs, labels)\n",
    "\n",
    "        train_loss += loss.item()\n",
    "        predicted = (torch.sigmoid(outputs) > 0.5).float()\n",
    "        correct_train += (predicted == labels).sum().item()\n",
    "        total_train += labels.size(0)\n",
    "\n",
    "    avg_train_loss = train_loss / len(train_loader)\n",
    "    train_accuracy = 100 * correct_train / total_train\n",
    "\n",
    "    # Validation Phase\n",
    "    student_model.eval()\n",
    "    with torch.no_grad():\n",
    "        for images, labels in val_loader:\n",
    "            images, labels = images.to(device), labels.float().unsqueeze(1).to(device)\n",
    "            outputs = student_model(images)\n",
    "            loss = F.binary_cross_entropy_with_logits(outputs, labels)\n",
    "\n",
    "            val_loss += loss.item()\n",
    "            predicted = (torch.sigmoid(outputs) > 0.5).float()\n",
    "            correct_val += (predicted == labels).sum().item()\n",
    "            total_val += labels.size(0)\n",
    "\n",
    "    avg_val_loss = val_loss / len(val_loader)\n",
    "    val_accuracy = 100 * correct_val / total_val\n",
    "\n",
    "    # Store values in lists\n",
    "    train_loss_history.append(avg_train_loss)\n",
    "    val_loss_history.append(avg_val_loss)\n",
    "    train_acc_history.append(train_accuracy)\n",
    "    val_acc_history.append(val_accuracy)\n",
    "\n",
    "#  Generate Training & Validation Curves\n",
    "plt.figure(figsize=(12, 5))\n",
    "\n",
    "# Plot Training & Validation Loss\n",
    "plt.subplot(1, 2, 1)\n",
    "plt.plot(range(1, num_epochs + 1), train_loss_history, marker=\"o\", linestyle=\"-\", label=\"Training Loss\")\n",
    "plt.plot(range(1, num_epochs + 1), val_loss_history, marker=\"o\", linestyle=\"--\", label=\"Validation Loss\")\n",
    "plt.xlabel(\"Epochs\")\n",
    "plt.ylabel(\"Loss\")\n",
    "plt.title(\"Training & Validation Loss\")\n",
    "plt.legend()\n",
    "plt.grid(True)\n",
    "plt.savefig('Training & Validation Loss')\n",
    "# Plot Training & Validation Accuracy\n",
    "plt.subplot(1, 2, 2)\n",
    "plt.plot(range(1, num_epochs + 1), train_acc_history, marker=\"o\", linestyle=\"-\", label=\"Training Accuracy\")\n",
    "plt.plot(range(1, num_epochs + 1), val_acc_history, marker=\"o\", linestyle=\"--\", label=\"Validation Accuracy\")\n",
    "plt.xlabel(\"Epochs\")\n",
    "plt.ylabel(\"Accuracy (%)\")\n",
    "plt.title(\"Training & Validation Accuracy\")\n",
    "plt.legend()\n",
    "plt.grid(True)\n",
    "\n",
    "# Adjust layout and show the figure\n",
    "plt.tight_layout()\n",
    "plt.savefig('Training & Validation Accuracy')\n",
    "\n",
    "plt.show()\n"
   ]
  },
  {
   "cell_type": "code",
   "execution_count": null,
   "id": "c6d40f51-35c4-4c96-bc8d-43b3a6c80fc6",
   "metadata": {},
   "outputs": [],
   "source": []
  }
 ],
 "metadata": {
  "kernelspec": {
   "display_name": "Python 3 (ipykernel)",
   "language": "python",
   "name": "python3"
  },
  "language_info": {
   "codemirror_mode": {
    "name": "ipython",
    "version": 3
   },
   "file_extension": ".py",
   "mimetype": "text/x-python",
   "name": "python",
   "nbconvert_exporter": "python",
   "pygments_lexer": "ipython3",
   "version": "3.12.4"
  }
 },
 "nbformat": 4,
 "nbformat_minor": 5
}
